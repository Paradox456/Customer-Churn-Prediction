import pandas as pd
import numpy as np
import matplotlib.pyplot as plt
import seaborn as sb

df = pd.read_csv("/Users/zihan/customer-churn-prediction/data/WA_Fn-UseC_-Telco-Customer-Churn.csv")
df.head()
